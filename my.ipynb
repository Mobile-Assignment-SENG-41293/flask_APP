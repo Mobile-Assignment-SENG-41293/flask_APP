{
 "cells": [
  {
   "cell_type": "code",
   "execution_count": 42,
   "metadata": {},
   "outputs": [],
   "source": [
    "import numpy as np \n",
    "import pandas as pd\n",
    "import seaborn as sns\n",
    "import matplotlib.pyplot as plt\n",
    "import numpy as np\n",
    "import pandas as pd"
   ]
  },
  {
   "cell_type": "code",
   "execution_count": 44,
   "metadata": {},
   "outputs": [],
   "source": [
    "train = pd.read_csv(\"Data_Train.csv\")\n",
    "test = pd.read_csv(\"Data_Test.csv\")"
   ]
  },
  {
   "cell_type": "code",
   "execution_count": 45,
   "metadata": {},
   "outputs": [
    {
     "data": {
      "text/html": [
       "<div>\n",
       "<style scoped>\n",
       "    .dataframe tbody tr th:only-of-type {\n",
       "        vertical-align: middle;\n",
       "    }\n",
       "\n",
       "    .dataframe tbody tr th {\n",
       "        vertical-align: top;\n",
       "    }\n",
       "\n",
       "    .dataframe thead th {\n",
       "        text-align: right;\n",
       "    }\n",
       "</style>\n",
       "<table border=\"1\" class=\"dataframe\">\n",
       "  <thead>\n",
       "    <tr style=\"text-align: right;\">\n",
       "      <th></th>\n",
       "      <th>Unnamed: 0</th>\n",
       "      <th>Name</th>\n",
       "      <th>Location</th>\n",
       "      <th>Year</th>\n",
       "      <th>Kilometers_Driven</th>\n",
       "      <th>Fuel_Type</th>\n",
       "      <th>Transmission</th>\n",
       "      <th>Owner_Type</th>\n",
       "      <th>Mileage</th>\n",
       "      <th>Engine</th>\n",
       "      <th>Power</th>\n",
       "      <th>Seats</th>\n",
       "      <th>New_Price</th>\n",
       "      <th>Price</th>\n",
       "    </tr>\n",
       "  </thead>\n",
       "  <tbody>\n",
       "    <tr>\n",
       "      <th>0</th>\n",
       "      <td>0</td>\n",
       "      <td>Maruti Wagon R LXI CNG</td>\n",
       "      <td>Mumbai</td>\n",
       "      <td>2010</td>\n",
       "      <td>72000</td>\n",
       "      <td>CNG</td>\n",
       "      <td>Manual</td>\n",
       "      <td>First</td>\n",
       "      <td>26.6 km/kg</td>\n",
       "      <td>998 CC</td>\n",
       "      <td>58.16 bhp</td>\n",
       "      <td>5.0</td>\n",
       "      <td>NaN</td>\n",
       "      <td>1.75</td>\n",
       "    </tr>\n",
       "    <tr>\n",
       "      <th>1</th>\n",
       "      <td>1</td>\n",
       "      <td>Hyundai Creta 1.6 CRDi SX Option</td>\n",
       "      <td>Pune</td>\n",
       "      <td>2015</td>\n",
       "      <td>41000</td>\n",
       "      <td>Diesel</td>\n",
       "      <td>Manual</td>\n",
       "      <td>First</td>\n",
       "      <td>19.67 kmpl</td>\n",
       "      <td>1582 CC</td>\n",
       "      <td>126.2 bhp</td>\n",
       "      <td>5.0</td>\n",
       "      <td>NaN</td>\n",
       "      <td>12.50</td>\n",
       "    </tr>\n",
       "    <tr>\n",
       "      <th>2</th>\n",
       "      <td>2</td>\n",
       "      <td>Honda Jazz V</td>\n",
       "      <td>Chennai</td>\n",
       "      <td>2011</td>\n",
       "      <td>46000</td>\n",
       "      <td>Petrol</td>\n",
       "      <td>Manual</td>\n",
       "      <td>First</td>\n",
       "      <td>18.2 kmpl</td>\n",
       "      <td>1199 CC</td>\n",
       "      <td>88.7 bhp</td>\n",
       "      <td>5.0</td>\n",
       "      <td>8.61 Lakh</td>\n",
       "      <td>4.50</td>\n",
       "    </tr>\n",
       "    <tr>\n",
       "      <th>3</th>\n",
       "      <td>3</td>\n",
       "      <td>Maruti Ertiga VDI</td>\n",
       "      <td>Chennai</td>\n",
       "      <td>2012</td>\n",
       "      <td>87000</td>\n",
       "      <td>Diesel</td>\n",
       "      <td>Manual</td>\n",
       "      <td>First</td>\n",
       "      <td>20.77 kmpl</td>\n",
       "      <td>1248 CC</td>\n",
       "      <td>88.76 bhp</td>\n",
       "      <td>7.0</td>\n",
       "      <td>NaN</td>\n",
       "      <td>6.00</td>\n",
       "    </tr>\n",
       "    <tr>\n",
       "      <th>4</th>\n",
       "      <td>4</td>\n",
       "      <td>Audi A4 New 2.0 TDI Multitronic</td>\n",
       "      <td>Coimbatore</td>\n",
       "      <td>2013</td>\n",
       "      <td>40670</td>\n",
       "      <td>Diesel</td>\n",
       "      <td>Automatic</td>\n",
       "      <td>Second</td>\n",
       "      <td>15.2 kmpl</td>\n",
       "      <td>1968 CC</td>\n",
       "      <td>140.8 bhp</td>\n",
       "      <td>5.0</td>\n",
       "      <td>NaN</td>\n",
       "      <td>17.74</td>\n",
       "    </tr>\n",
       "  </tbody>\n",
       "</table>\n",
       "</div>"
      ],
      "text/plain": [
       "   Unnamed: 0                              Name    Location  Year  \\\n",
       "0           0            Maruti Wagon R LXI CNG      Mumbai  2010   \n",
       "1           1  Hyundai Creta 1.6 CRDi SX Option        Pune  2015   \n",
       "2           2                      Honda Jazz V     Chennai  2011   \n",
       "3           3                 Maruti Ertiga VDI     Chennai  2012   \n",
       "4           4   Audi A4 New 2.0 TDI Multitronic  Coimbatore  2013   \n",
       "\n",
       "   Kilometers_Driven Fuel_Type Transmission Owner_Type     Mileage   Engine  \\\n",
       "0              72000       CNG       Manual      First  26.6 km/kg   998 CC   \n",
       "1              41000    Diesel       Manual      First  19.67 kmpl  1582 CC   \n",
       "2              46000    Petrol       Manual      First   18.2 kmpl  1199 CC   \n",
       "3              87000    Diesel       Manual      First  20.77 kmpl  1248 CC   \n",
       "4              40670    Diesel    Automatic     Second   15.2 kmpl  1968 CC   \n",
       "\n",
       "       Power  Seats  New_Price  Price  \n",
       "0  58.16 bhp    5.0        NaN   1.75  \n",
       "1  126.2 bhp    5.0        NaN  12.50  \n",
       "2   88.7 bhp    5.0  8.61 Lakh   4.50  \n",
       "3  88.76 bhp    7.0        NaN   6.00  \n",
       "4  140.8 bhp    5.0        NaN  17.74  "
      ]
     },
     "execution_count": 45,
     "metadata": {},
     "output_type": "execute_result"
    }
   ],
   "source": [
    "dataset.head()"
   ]
  },
  {
   "cell_type": "code",
   "execution_count": 46,
   "metadata": {},
   "outputs": [
    {
     "data": {
      "text/plain": [
       "(6019, 12)"
      ]
     },
     "execution_count": 46,
     "metadata": {},
     "output_type": "execute_result"
    }
   ],
   "source": [
    "train.shape"
   ]
  },
  {
   "cell_type": "code",
   "execution_count": 47,
   "metadata": {},
   "outputs": [
    {
     "name": "stdout",
     "output_type": "stream",
     "text": [
      "<class 'pandas.core.frame.DataFrame'>\n",
      "RangeIndex: 6019 entries, 0 to 6018\n",
      "Data columns (total 12 columns):\n",
      " #   Column             Non-Null Count  Dtype  \n",
      "---  ------             --------------  -----  \n",
      " 0   Name               6019 non-null   object \n",
      " 1   Location           6019 non-null   object \n",
      " 2   Year               6019 non-null   int64  \n",
      " 3   Kilometers_Driven  6019 non-null   int64  \n",
      " 4   Fuel_Type          6019 non-null   object \n",
      " 5   Transmission       6019 non-null   object \n",
      " 6   Owner_Type         6019 non-null   object \n",
      " 7   Mileage            6017 non-null   object \n",
      " 8   Engine             5983 non-null   object \n",
      " 9   Power              5983 non-null   object \n",
      " 10  Seats              5977 non-null   float64\n",
      " 11  Price              6019 non-null   float64\n",
      "dtypes: float64(2), int64(2), object(8)\n",
      "memory usage: 564.4+ KB\n"
     ]
    }
   ],
   "source": [
    "train.info()"
   ]
  },
  {
   "cell_type": "code",
   "execution_count": 48,
   "metadata": {},
   "outputs": [
    {
     "data": {
      "text/plain": [
       "Name                 1876\n",
       "Location               11\n",
       "Year                   22\n",
       "Kilometers_Driven    3093\n",
       "Fuel_Type               5\n",
       "Transmission            2\n",
       "Owner_Type              4\n",
       "Mileage               442\n",
       "Engine                146\n",
       "Power                 372\n",
       "Seats                   9\n",
       "Price                1373\n",
       "dtype: int64"
      ]
     },
     "execution_count": 48,
     "metadata": {},
     "output_type": "execute_result"
    }
   ],
   "source": [
    "train.nunique()"
   ]
  },
  {
   "cell_type": "code",
   "execution_count": 49,
   "metadata": {},
   "outputs": [
    {
     "data": {
      "text/plain": [
       "Name                  0\n",
       "Location              0\n",
       "Year                  0\n",
       "Kilometers_Driven     0\n",
       "Fuel_Type             0\n",
       "Transmission          0\n",
       "Owner_Type            0\n",
       "Mileage               2\n",
       "Engine               36\n",
       "Power                36\n",
       "Seats                42\n",
       "Price                 0\n",
       "dtype: int64"
      ]
     },
     "execution_count": 49,
     "metadata": {},
     "output_type": "execute_result"
    }
   ],
   "source": [
    "train.isnull().sum()"
   ]
  },
  {
   "cell_type": "code",
   "execution_count": 50,
   "metadata": {},
   "outputs": [
    {
     "data": {
      "text/plain": [
       "(6019, 12)"
      ]
     },
     "execution_count": 50,
     "metadata": {},
     "output_type": "execute_result"
    }
   ],
   "source": [
    "train.shape"
   ]
  },
  {
   "cell_type": "code",
   "execution_count": 51,
   "metadata": {},
   "outputs": [
    {
     "data": {
      "text/plain": [
       "Diesel      3205\n",
       "Petrol      2746\n",
       "CNG           56\n",
       "LPG           10\n",
       "Electric       2\n",
       "Name: Fuel_Type, dtype: int64"
      ]
     },
     "execution_count": 51,
     "metadata": {},
     "output_type": "execute_result"
    }
   ],
   "source": [
    "train.Fuel_Type.value_counts()"
   ]
  },
  {
   "cell_type": "code",
   "execution_count": 52,
   "metadata": {},
   "outputs": [
    {
     "name": "stdout",
     "output_type": "stream",
     "text": [
      "171\n",
      "6500000\n"
     ]
    }
   ],
   "source": [
    "print(train.Kilometers_Driven.min())\n",
    "print(train.Kilometers_Driven.max())"
   ]
  },
  {
   "cell_type": "code",
   "execution_count": 27,
   "metadata": {},
   "outputs": [
    {
     "data": {
      "text/plain": [
       "{'whiskers': [<matplotlib.lines.Line2D at 0x7f365be1bcd0>,\n",
       "  <matplotlib.lines.Line2D at 0x7f365b6ad070>],\n",
       " 'caps': [<matplotlib.lines.Line2D at 0x7f365b6ad3d0>,\n",
       "  <matplotlib.lines.Line2D at 0x7f365b6ad730>],\n",
       " 'boxes': [<matplotlib.lines.Line2D at 0x7f365be1b970>],\n",
       " 'medians': [<matplotlib.lines.Line2D at 0x7f365b6ada90>],\n",
       " 'fliers': [<matplotlib.lines.Line2D at 0x7f365b6add90>],\n",
       " 'means': []}"
      ]
     },
     "execution_count": 27,
     "metadata": {},
     "output_type": "execute_result"
    },
    {
     "data": {
      "image/png": "[encoded data removed]",
      "text/plain": [
       "<Figure size 432x288 with 1 Axes>"
      ]
     },
     "metadata": {
      "needs_background": "light"
     },
     "output_type": "display_data"
    }
   ],
   "source": [
    "plt.boxplot(train.Kilometers_Driven)"
   ]
  },
  {
   "cell_type": "code",
   "execution_count": 53,
   "metadata": {},
   "outputs": [
    {
     "data": {
      "text/html": [
       "<div>\n",
       "<style scoped>\n",
       "    .dataframe tbody tr th:only-of-type {\n",
       "        vertical-align: middle;\n",
       "    }\n",
       "\n",
       "    .dataframe tbody tr th {\n",
       "        vertical-align: top;\n",
       "    }\n",
       "\n",
       "    .dataframe thead th {\n",
       "        text-align: right;\n",
       "    }\n",
       "</style>\n",
       "<table border=\"1\" class=\"dataframe\">\n",
       "  <thead>\n",
       "    <tr style=\"text-align: right;\">\n",
       "      <th></th>\n",
       "      <th>Name</th>\n",
       "      <th>Location</th>\n",
       "      <th>Year</th>\n",
       "      <th>Kilometers_Driven</th>\n",
       "      <th>Fuel_Type</th>\n",
       "      <th>Transmission</th>\n",
       "      <th>Owner_Type</th>\n",
       "      <th>Mileage</th>\n",
       "      <th>Engine</th>\n",
       "      <th>Power</th>\n",
       "      <th>Seats</th>\n",
       "    </tr>\n",
       "  </thead>\n",
       "  <tbody>\n",
       "    <tr>\n",
       "      <th>0</th>\n",
       "      <td>Maruti Alto K10 LXI CNG</td>\n",
       "      <td>Delhi</td>\n",
       "      <td>2014</td>\n",
       "      <td>40929</td>\n",
       "      <td>CNG</td>\n",
       "      <td>Manual</td>\n",
       "      <td>First</td>\n",
       "      <td>32.26 km/kg</td>\n",
       "      <td>998 CC</td>\n",
       "      <td>58.2 bhp</td>\n",
       "      <td>4.0</td>\n",
       "    </tr>\n",
       "    <tr>\n",
       "      <th>1</th>\n",
       "      <td>Maruti Alto 800 2016-2019 LXI</td>\n",
       "      <td>Coimbatore</td>\n",
       "      <td>2013</td>\n",
       "      <td>54493</td>\n",
       "      <td>Petrol</td>\n",
       "      <td>Manual</td>\n",
       "      <td>Second</td>\n",
       "      <td>24.7 kmpl</td>\n",
       "      <td>796 CC</td>\n",
       "      <td>47.3 bhp</td>\n",
       "      <td>5.0</td>\n",
       "    </tr>\n",
       "    <tr>\n",
       "      <th>2</th>\n",
       "      <td>Toyota Innova Crysta Touring Sport 2.4 MT</td>\n",
       "      <td>Mumbai</td>\n",
       "      <td>2017</td>\n",
       "      <td>34000</td>\n",
       "      <td>Diesel</td>\n",
       "      <td>Manual</td>\n",
       "      <td>First</td>\n",
       "      <td>13.68 kmpl</td>\n",
       "      <td>2393 CC</td>\n",
       "      <td>147.8 bhp</td>\n",
       "      <td>7.0</td>\n",
       "    </tr>\n",
       "    <tr>\n",
       "      <th>3</th>\n",
       "      <td>Toyota Etios Liva GD</td>\n",
       "      <td>Hyderabad</td>\n",
       "      <td>2012</td>\n",
       "      <td>139000</td>\n",
       "      <td>Diesel</td>\n",
       "      <td>Manual</td>\n",
       "      <td>First</td>\n",
       "      <td>23.59 kmpl</td>\n",
       "      <td>1364 CC</td>\n",
       "      <td>null bhp</td>\n",
       "      <td>5.0</td>\n",
       "    </tr>\n",
       "    <tr>\n",
       "      <th>4</th>\n",
       "      <td>Hyundai i20 Magna</td>\n",
       "      <td>Mumbai</td>\n",
       "      <td>2014</td>\n",
       "      <td>29000</td>\n",
       "      <td>Petrol</td>\n",
       "      <td>Manual</td>\n",
       "      <td>First</td>\n",
       "      <td>18.5 kmpl</td>\n",
       "      <td>1197 CC</td>\n",
       "      <td>82.85 bhp</td>\n",
       "      <td>5.0</td>\n",
       "    </tr>\n",
       "  </tbody>\n",
       "</table>\n",
       "</div>"
      ],
      "text/plain": [
       "                                        Name    Location  Year  \\\n",
       "0                    Maruti Alto K10 LXI CNG       Delhi  2014   \n",
       "1              Maruti Alto 800 2016-2019 LXI  Coimbatore  2013   \n",
       "2  Toyota Innova Crysta Touring Sport 2.4 MT      Mumbai  2017   \n",
       "3                       Toyota Etios Liva GD   Hyderabad  2012   \n",
       "4                          Hyundai i20 Magna      Mumbai  2014   \n",
       "\n",
       "   Kilometers_Driven Fuel_Type Transmission Owner_Type      Mileage   Engine  \\\n",
       "0              40929       CNG       Manual      First  32.26 km/kg   998 CC   \n",
       "1              54493    Petrol       Manual     Second    24.7 kmpl   796 CC   \n",
       "2              34000    Diesel       Manual      First   13.68 kmpl  2393 CC   \n",
       "3             139000    Diesel       Manual      First   23.59 kmpl  1364 CC   \n",
       "4              29000    Petrol       Manual      First    18.5 kmpl  1197 CC   \n",
       "\n",
       "       Power  Seats  \n",
       "0   58.2 bhp    4.0  \n",
       "1   47.3 bhp    5.0  \n",
       "2  147.8 bhp    7.0  \n",
       "3   null bhp    5.0  \n",
       "4  82.85 bhp    5.0  "
      ]
     },
     "execution_count": 53,
     "metadata": {},
     "output_type": "execute_result"
    }
   ],
   "source": [
    "train = train[train['Kilometers_Driven'] < 500000]\n",
    "train = train[train['Kilometers_Driven'] > 1000]\n",
    "train.shape\n",
    "train.head()\n",
    "test.head()"
   ]
  },
  {
   "cell_type": "code",
   "execution_count": 54,
   "metadata": {},
   "outputs": [],
   "source": [
    "train.Name = train.Name.str.split().str.get(0)\n",
    "test.Name = test.Name.str.split().str.get(0)"
   ]
  },
  {
   "cell_type": "code",
   "execution_count": 55,
   "metadata": {},
   "outputs": [
    {
     "data": {
      "text/html": [
       "<div>\n",
       "<style scoped>\n",
       "    .dataframe tbody tr th:only-of-type {\n",
       "        vertical-align: middle;\n",
       "    }\n",
       "\n",
       "    .dataframe tbody tr th {\n",
       "        vertical-align: top;\n",
       "    }\n",
       "\n",
       "    .dataframe thead th {\n",
       "        text-align: right;\n",
       "    }\n",
       "</style>\n",
       "<table border=\"1\" class=\"dataframe\">\n",
       "  <thead>\n",
       "    <tr style=\"text-align: right;\">\n",
       "      <th></th>\n",
       "      <th>Name</th>\n",
       "      <th>Location</th>\n",
       "      <th>Year</th>\n",
       "      <th>Kilometers_Driven</th>\n",
       "      <th>Fuel_Type</th>\n",
       "      <th>Transmission</th>\n",
       "      <th>Owner_Type</th>\n",
       "      <th>Mileage</th>\n",
       "      <th>Engine</th>\n",
       "      <th>Power</th>\n",
       "      <th>Seats</th>\n",
       "      <th>Price</th>\n",
       "    </tr>\n",
       "  </thead>\n",
       "  <tbody>\n",
       "    <tr>\n",
       "      <th>0</th>\n",
       "      <td>Maruti</td>\n",
       "      <td>Mumbai</td>\n",
       "      <td>2010</td>\n",
       "      <td>72000</td>\n",
       "      <td>CNG</td>\n",
       "      <td>Manual</td>\n",
       "      <td>First</td>\n",
       "      <td>26.6 km/kg</td>\n",
       "      <td>998 CC</td>\n",
       "      <td>58.16 bhp</td>\n",
       "      <td>5.0</td>\n",
       "      <td>1.75</td>\n",
       "    </tr>\n",
       "    <tr>\n",
       "      <th>1</th>\n",
       "      <td>Hyundai</td>\n",
       "      <td>Pune</td>\n",
       "      <td>2015</td>\n",
       "      <td>41000</td>\n",
       "      <td>Diesel</td>\n",
       "      <td>Manual</td>\n",
       "      <td>First</td>\n",
       "      <td>19.67 kmpl</td>\n",
       "      <td>1582 CC</td>\n",
       "      <td>126.2 bhp</td>\n",
       "      <td>5.0</td>\n",
       "      <td>12.50</td>\n",
       "    </tr>\n",
       "    <tr>\n",
       "      <th>2</th>\n",
       "      <td>Honda</td>\n",
       "      <td>Chennai</td>\n",
       "      <td>2011</td>\n",
       "      <td>46000</td>\n",
       "      <td>Petrol</td>\n",
       "      <td>Manual</td>\n",
       "      <td>First</td>\n",
       "      <td>18.2 kmpl</td>\n",
       "      <td>1199 CC</td>\n",
       "      <td>88.7 bhp</td>\n",
       "      <td>5.0</td>\n",
       "      <td>4.50</td>\n",
       "    </tr>\n",
       "    <tr>\n",
       "      <th>3</th>\n",
       "      <td>Maruti</td>\n",
       "      <td>Chennai</td>\n",
       "      <td>2012</td>\n",
       "      <td>87000</td>\n",
       "      <td>Diesel</td>\n",
       "      <td>Manual</td>\n",
       "      <td>First</td>\n",
       "      <td>20.77 kmpl</td>\n",
       "      <td>1248 CC</td>\n",
       "      <td>88.76 bhp</td>\n",
       "      <td>7.0</td>\n",
       "      <td>6.00</td>\n",
       "    </tr>\n",
       "    <tr>\n",
       "      <th>4</th>\n",
       "      <td>Audi</td>\n",
       "      <td>Coimbatore</td>\n",
       "      <td>2013</td>\n",
       "      <td>40670</td>\n",
       "      <td>Diesel</td>\n",
       "      <td>Automatic</td>\n",
       "      <td>Second</td>\n",
       "      <td>15.2 kmpl</td>\n",
       "      <td>1968 CC</td>\n",
       "      <td>140.8 bhp</td>\n",
       "      <td>5.0</td>\n",
       "      <td>17.74</td>\n",
       "    </tr>\n",
       "  </tbody>\n",
       "</table>\n",
       "</div>"
      ],
      "text/plain": [
       "      Name    Location  Year  Kilometers_Driven Fuel_Type Transmission  \\\n",
       "0   Maruti      Mumbai  2010              72000       CNG       Manual   \n",
       "1  Hyundai        Pune  2015              41000    Diesel       Manual   \n",
       "2    Honda     Chennai  2011              46000    Petrol       Manual   \n",
       "3   Maruti     Chennai  2012              87000    Diesel       Manual   \n",
       "4     Audi  Coimbatore  2013              40670    Diesel    Automatic   \n",
       "\n",
       "  Owner_Type     Mileage   Engine      Power  Seats  Price  \n",
       "0      First  26.6 km/kg   998 CC  58.16 bhp    5.0   1.75  \n",
       "1      First  19.67 kmpl  1582 CC  126.2 bhp    5.0  12.50  \n",
       "2      First   18.2 kmpl  1199 CC   88.7 bhp    5.0   4.50  \n",
       "3      First  20.77 kmpl  1248 CC  88.76 bhp    7.0   6.00  \n",
       "4     Second   15.2 kmpl  1968 CC  140.8 bhp    5.0  17.74  "
      ]
     },
     "execution_count": 55,
     "metadata": {},
     "output_type": "execute_result"
    }
   ],
   "source": [
    "train.head()"
   ]
  },
  {
   "cell_type": "code",
   "execution_count": 56,
   "metadata": {},
   "outputs": [
    {
     "data": {
      "text/plain": [
       "Maruti           1208\n",
       "Hyundai          1104\n",
       "Honda             608\n",
       "Toyota            411\n",
       "Mercedes-Benz     318\n",
       "Volkswagen        313\n",
       "Ford              299\n",
       "Mahindra          272\n",
       "BMW               266\n",
       "Audi              236\n",
       "Tata              184\n",
       "Skoda             172\n",
       "Renault           144\n",
       "Chevrolet         121\n",
       "Nissan             91\n",
       "Land               60\n",
       "Jaguar             39\n",
       "Fiat               28\n",
       "Mitsubishi         27\n",
       "Mini               26\n",
       "Volvo              21\n",
       "Porsche            18\n",
       "Jeep               15\n",
       "Datsun             13\n",
       "Force               3\n",
       "ISUZU               2\n",
       "Bentley             1\n",
       "Ambassador          1\n",
       "Isuzu               1\n",
       "Smart               1\n",
       "Lamborghini         1\n",
       "Name: Name, dtype: int64"
      ]
     },
     "execution_count": 56,
     "metadata": {},
     "output_type": "execute_result"
    }
   ],
   "source": [
    "train.Name.value_counts()"
   ]
  },
  {
   "cell_type": "code",
   "execution_count": 57,
   "metadata": {},
   "outputs": [],
   "source": [
    "train = train[train['Name'] != 'Force']\n",
    "train = train[train['Name'] != 'ISUZU']\n",
    "train = train[train['Name'] != 'Bentley']\n",
    "train = train[train['Name'] != 'Lamborghini']\n",
    "train = train[train['Name'] != 'Isuzu']\n",
    "train = train[train['Name'] != 'Smart']\n",
    "train = train[train['Name'] != 'Ambassador']"
   ]
  },
  {
   "cell_type": "code",
   "execution_count": 58,
   "metadata": {},
   "outputs": [
    {
     "data": {
      "text/plain": [
       "(5994, 12)"
      ]
     },
     "execution_count": 58,
     "metadata": {},
     "output_type": "execute_result"
    }
   ],
   "source": [
    "train.shape"
   ]
  },
  {
   "cell_type": "code",
   "execution_count": 59,
   "metadata": {},
   "outputs": [
    {
     "data": {
      "text/plain": [
       "<matplotlib.axes._subplots.AxesSubplot at 0x7f365b685e50>"
      ]
     },
     "execution_count": 59,
     "metadata": {},
     "output_type": "execute_result"
    },
    {
     "data": {
      "image/png": "[encoded data removed]",
      "text/plain": [
       "<Figure size 432x288 with 1 Axes>"
      ]
     },
     "metadata": {
      "needs_background": "light"
     },
     "output_type": "display_data"
    }
   ],
   "source": [
    "sns.boxplot(train.Price)"
   ]
  },
  {
   "cell_type": "code",
   "execution_count": 60,
   "metadata": {},
   "outputs": [
    {
     "name": "stdout",
     "output_type": "stream",
     "text": [
      "0.44\n",
      "160.0\n"
     ]
    }
   ],
   "source": [
    "print(train.Price.min())\n",
    "print(train.Price.max())"
   ]
  },
  {
   "cell_type": "code",
   "execution_count": 61,
   "metadata": {},
   "outputs": [
    {
     "data": {
      "text/plain": [
       "(5993, 12)"
      ]
     },
     "execution_count": 61,
     "metadata": {},
     "output_type": "execute_result"
    }
   ],
   "source": [
    "train = train[train.Price < 120]\n",
    "train.shape"
   ]
  },
  {
   "cell_type": "code",
   "execution_count": 62,
   "metadata": {},
   "outputs": [
    {
     "data": {
      "text/plain": [
       "(5987, 12)"
      ]
     },
     "execution_count": 62,
     "metadata": {},
     "output_type": "execute_result"
    }
   ],
   "source": [
    "train = train[train.Price > 0.5]\n",
    "train.shape"
   ]
  },
  {
   "cell_type": "code",
   "execution_count": 63,
   "metadata": {},
   "outputs": [],
   "source": [
    "train.Mileage = train.Mileage.str.split().str.get(0).astype('float')\n",
    "train.Engine = train.Engine.str.split().str.get(0).astype('int', errors='ignore')\n",
    "train.Power = train.Power.str.split().str.get(0).astype('float', errors='ignore')\n",
    "train.head()\n",
    "\n",
    "test.Mileage = test.Mileage.str.split().str.get(0).astype('float')\n",
    "test.Engine = test.Engine.str.split().str.get(0).astype('int', errors='ignore')\n",
    "test.Power = test.Power.str.split().str.get(0).astype('float', errors='ignore')"
   ]
  },
  {
   "cell_type": "code",
   "execution_count": 64,
   "metadata": {},
   "outputs": [
    {
     "data": {
      "text/html": [
       "<div>\n",
       "<style scoped>\n",
       "    .dataframe tbody tr th:only-of-type {\n",
       "        vertical-align: middle;\n",
       "    }\n",
       "\n",
       "    .dataframe tbody tr th {\n",
       "        vertical-align: top;\n",
       "    }\n",
       "\n",
       "    .dataframe thead th {\n",
       "        text-align: right;\n",
       "    }\n",
       "</style>\n",
       "<table border=\"1\" class=\"dataframe\">\n",
       "  <thead>\n",
       "    <tr style=\"text-align: right;\">\n",
       "      <th></th>\n",
       "      <th>Name</th>\n",
       "      <th>Location</th>\n",
       "      <th>Year</th>\n",
       "      <th>Kilometers_Driven</th>\n",
       "      <th>Fuel_Type</th>\n",
       "      <th>Transmission</th>\n",
       "      <th>Owner_Type</th>\n",
       "      <th>Mileage</th>\n",
       "      <th>Engine</th>\n",
       "      <th>Power</th>\n",
       "      <th>Seats</th>\n",
       "      <th>Price</th>\n",
       "      <th>Car_age</th>\n",
       "    </tr>\n",
       "  </thead>\n",
       "  <tbody>\n",
       "    <tr>\n",
       "      <th>0</th>\n",
       "      <td>Maruti</td>\n",
       "      <td>Mumbai</td>\n",
       "      <td>2010</td>\n",
       "      <td>72000</td>\n",
       "      <td>CNG</td>\n",
       "      <td>Manual</td>\n",
       "      <td>First</td>\n",
       "      <td>26.60</td>\n",
       "      <td>998</td>\n",
       "      <td>58.16</td>\n",
       "      <td>5.0</td>\n",
       "      <td>1.75</td>\n",
       "      <td>10</td>\n",
       "    </tr>\n",
       "    <tr>\n",
       "      <th>1</th>\n",
       "      <td>Hyundai</td>\n",
       "      <td>Pune</td>\n",
       "      <td>2015</td>\n",
       "      <td>41000</td>\n",
       "      <td>Diesel</td>\n",
       "      <td>Manual</td>\n",
       "      <td>First</td>\n",
       "      <td>19.67</td>\n",
       "      <td>1582</td>\n",
       "      <td>126.2</td>\n",
       "      <td>5.0</td>\n",
       "      <td>12.50</td>\n",
       "      <td>5</td>\n",
       "    </tr>\n",
       "    <tr>\n",
       "      <th>2</th>\n",
       "      <td>Honda</td>\n",
       "      <td>Chennai</td>\n",
       "      <td>2011</td>\n",
       "      <td>46000</td>\n",
       "      <td>Petrol</td>\n",
       "      <td>Manual</td>\n",
       "      <td>First</td>\n",
       "      <td>18.20</td>\n",
       "      <td>1199</td>\n",
       "      <td>88.7</td>\n",
       "      <td>5.0</td>\n",
       "      <td>4.50</td>\n",
       "      <td>9</td>\n",
       "    </tr>\n",
       "    <tr>\n",
       "      <th>3</th>\n",
       "      <td>Maruti</td>\n",
       "      <td>Chennai</td>\n",
       "      <td>2012</td>\n",
       "      <td>87000</td>\n",
       "      <td>Diesel</td>\n",
       "      <td>Manual</td>\n",
       "      <td>First</td>\n",
       "      <td>20.77</td>\n",
       "      <td>1248</td>\n",
       "      <td>88.76</td>\n",
       "      <td>7.0</td>\n",
       "      <td>6.00</td>\n",
       "      <td>8</td>\n",
       "    </tr>\n",
       "    <tr>\n",
       "      <th>4</th>\n",
       "      <td>Audi</td>\n",
       "      <td>Coimbatore</td>\n",
       "      <td>2013</td>\n",
       "      <td>40670</td>\n",
       "      <td>Diesel</td>\n",
       "      <td>Automatic</td>\n",
       "      <td>Second</td>\n",
       "      <td>15.20</td>\n",
       "      <td>1968</td>\n",
       "      <td>140.8</td>\n",
       "      <td>5.0</td>\n",
       "      <td>17.74</td>\n",
       "      <td>7</td>\n",
       "    </tr>\n",
       "  </tbody>\n",
       "</table>\n",
       "</div>"
      ],
      "text/plain": [
       "      Name    Location  Year  Kilometers_Driven Fuel_Type Transmission  \\\n",
       "0   Maruti      Mumbai  2010              72000       CNG       Manual   \n",
       "1  Hyundai        Pune  2015              41000    Diesel       Manual   \n",
       "2    Honda     Chennai  2011              46000    Petrol       Manual   \n",
       "3   Maruti     Chennai  2012              87000    Diesel       Manual   \n",
       "4     Audi  Coimbatore  2013              40670    Diesel    Automatic   \n",
       "\n",
       "  Owner_Type  Mileage Engine  Power  Seats  Price  Car_age  \n",
       "0      First    26.60    998  58.16    5.0   1.75       10  \n",
       "1      First    19.67   1582  126.2    5.0  12.50        5  \n",
       "2      First    18.20   1199   88.7    5.0   4.50        9  \n",
       "3      First    20.77   1248  88.76    7.0   6.00        8  \n",
       "4     Second    15.20   1968  140.8    5.0  17.74        7  "
      ]
     },
     "execution_count": 64,
     "metadata": {},
     "output_type": "execute_result"
    }
   ],
   "source": [
    "train['Car_age'] = 2020 - train['Year']\n",
    "test['Car_age'] = 2020 - test['Year']\n",
    "train.head()"
   ]
  },
  {
   "cell_type": "code",
   "execution_count": 65,
   "metadata": {},
   "outputs": [],
   "source": [
    "train.Price = np.log1p(train.Price)"
   ]
  },
  {
   "cell_type": "code",
   "execution_count": 66,
   "metadata": {},
   "outputs": [],
   "source": [
    "from sklearn.preprocessing import LabelEncoder\n",
    "label_encoder = LabelEncoder()"
   ]
  },
  {
   "cell_type": "code",
   "execution_count": 67,
   "metadata": {},
   "outputs": [
    {
     "data": {
      "text/html": [
       "<div>\n",
       "<style scoped>\n",
       "    .dataframe tbody tr th:only-of-type {\n",
       "        vertical-align: middle;\n",
       "    }\n",
       "\n",
       "    .dataframe tbody tr th {\n",
       "        vertical-align: top;\n",
       "    }\n",
       "\n",
       "    .dataframe thead th {\n",
       "        text-align: right;\n",
       "    }\n",
       "</style>\n",
       "<table border=\"1\" class=\"dataframe\">\n",
       "  <thead>\n",
       "    <tr style=\"text-align: right;\">\n",
       "      <th></th>\n",
       "      <th>Name</th>\n",
       "      <th>Location</th>\n",
       "      <th>Year</th>\n",
       "      <th>Kilometers_Driven</th>\n",
       "      <th>Fuel_Type</th>\n",
       "      <th>Transmission</th>\n",
       "      <th>Owner_Type</th>\n",
       "      <th>Mileage</th>\n",
       "      <th>Engine</th>\n",
       "      <th>Power</th>\n",
       "      <th>Seats</th>\n",
       "      <th>Price</th>\n",
       "      <th>Car_age</th>\n",
       "    </tr>\n",
       "  </thead>\n",
       "  <tbody>\n",
       "    <tr>\n",
       "      <th>0</th>\n",
       "      <td>12</td>\n",
       "      <td>9</td>\n",
       "      <td>2010</td>\n",
       "      <td>72000</td>\n",
       "      <td>0</td>\n",
       "      <td>1</td>\n",
       "      <td>0</td>\n",
       "      <td>26.60</td>\n",
       "      <td>998</td>\n",
       "      <td>58.16</td>\n",
       "      <td>5.0</td>\n",
       "      <td>1.011601</td>\n",
       "      <td>10</td>\n",
       "    </tr>\n",
       "    <tr>\n",
       "      <th>1</th>\n",
       "      <td>7</td>\n",
       "      <td>10</td>\n",
       "      <td>2015</td>\n",
       "      <td>41000</td>\n",
       "      <td>1</td>\n",
       "      <td>1</td>\n",
       "      <td>0</td>\n",
       "      <td>19.67</td>\n",
       "      <td>1582</td>\n",
       "      <td>126.2</td>\n",
       "      <td>5.0</td>\n",
       "      <td>2.602690</td>\n",
       "      <td>5</td>\n",
       "    </tr>\n",
       "    <tr>\n",
       "      <th>2</th>\n",
       "      <td>6</td>\n",
       "      <td>2</td>\n",
       "      <td>2011</td>\n",
       "      <td>46000</td>\n",
       "      <td>4</td>\n",
       "      <td>1</td>\n",
       "      <td>0</td>\n",
       "      <td>18.20</td>\n",
       "      <td>1199</td>\n",
       "      <td>88.7</td>\n",
       "      <td>5.0</td>\n",
       "      <td>1.704748</td>\n",
       "      <td>9</td>\n",
       "    </tr>\n",
       "    <tr>\n",
       "      <th>3</th>\n",
       "      <td>12</td>\n",
       "      <td>2</td>\n",
       "      <td>2012</td>\n",
       "      <td>87000</td>\n",
       "      <td>1</td>\n",
       "      <td>1</td>\n",
       "      <td>0</td>\n",
       "      <td>20.77</td>\n",
       "      <td>1248</td>\n",
       "      <td>88.76</td>\n",
       "      <td>7.0</td>\n",
       "      <td>1.945910</td>\n",
       "      <td>8</td>\n",
       "    </tr>\n",
       "    <tr>\n",
       "      <th>4</th>\n",
       "      <td>0</td>\n",
       "      <td>3</td>\n",
       "      <td>2013</td>\n",
       "      <td>40670</td>\n",
       "      <td>1</td>\n",
       "      <td>0</td>\n",
       "      <td>2</td>\n",
       "      <td>15.20</td>\n",
       "      <td>1968</td>\n",
       "      <td>140.8</td>\n",
       "      <td>5.0</td>\n",
       "      <td>2.930660</td>\n",
       "      <td>7</td>\n",
       "    </tr>\n",
       "  </tbody>\n",
       "</table>\n",
       "</div>"
      ],
      "text/plain": [
       "   Name  Location  Year  Kilometers_Driven  Fuel_Type  Transmission  \\\n",
       "0    12         9  2010              72000          0             1   \n",
       "1     7        10  2015              41000          1             1   \n",
       "2     6         2  2011              46000          4             1   \n",
       "3    12         2  2012              87000          1             1   \n",
       "4     0         3  2013              40670          1             0   \n",
       "\n",
       "   Owner_Type  Mileage Engine  Power  Seats     Price  Car_age  \n",
       "0           0    26.60    998  58.16    5.0  1.011601       10  \n",
       "1           0    19.67   1582  126.2    5.0  2.602690        5  \n",
       "2           0    18.20   1199   88.7    5.0  1.704748        9  \n",
       "3           0    20.77   1248  88.76    7.0  1.945910        8  \n",
       "4           2    15.20   1968  140.8    5.0  2.930660        7  "
      ]
     },
     "execution_count": 67,
     "metadata": {},
     "output_type": "execute_result"
    }
   ],
   "source": [
    "train['Name'] = label_encoder.fit_transform(train['Name'])\n",
    "train['Location'] = label_encoder.fit_transform(train['Location'])\n",
    "train['Fuel_Type'] = label_encoder.fit_transform(train['Fuel_Type'])\n",
    "train['Transmission'] = label_encoder.fit_transform(train['Transmission'])\n",
    "train['Owner_Type'] = label_encoder.fit_transform(train['Owner_Type'])\n",
    "\n",
    "\n",
    "test['Name'] = label_encoder.fit_transform(test['Name'])\n",
    "test['Location'] = label_encoder.fit_transform(test['Location'])\n",
    "test['Fuel_Type'] = label_encoder.fit_transform(test['Fuel_Type'])\n",
    "test['Transmission'] = label_encoder.fit_transform(test['Transmission'])\n",
    "test['Owner_Type'] = label_encoder.fit_transform(test['Owner_Type'])\n",
    "\n",
    "train.head()"
   ]
  },
  {
   "cell_type": "code",
   "execution_count": 89,
   "metadata": {},
   "outputs": [
    {
     "data": {
      "text/plain": [
       "Name                 0\n",
       "Location             0\n",
       "Year                 0\n",
       "Kilometers_Driven    0\n",
       "Fuel_Type            0\n",
       "Transmission         0\n",
       "Owner_Type           0\n",
       "Mileage              0\n",
       "Engine               0\n",
       "Power                0\n",
       "Seats                0\n",
       "Car_age              0\n",
       "dtype: int64"
      ]
     },
     "execution_count": 89,
     "metadata": {},
     "output_type": "execute_result"
    }
   ],
   "source": [
    "train.isnull().sum()\n"
   ]
  },
  {
   "cell_type": "code",
   "execution_count": 90,
   "metadata": {},
   "outputs": [
    {
     "data": {
      "text/plain": [
       "Name                   int64\n",
       "Location               int64\n",
       "Year                   int64\n",
       "Kilometers_Driven      int64\n",
       "Fuel_Type              int64\n",
       "Transmission           int64\n",
       "Owner_Type             int64\n",
       "Mileage              float64\n",
       "Engine               float64\n",
       "Power                float64\n",
       "Seats                float64\n",
       "Price                float64\n",
       "Car_age                int64\n",
       "dtype: object"
      ]
     },
     "execution_count": 90,
     "metadata": {},
     "output_type": "execute_result"
    }
   ],
   "source": [
    "train.dtypes"
   ]
  },
  {
   "cell_type": "code",
   "execution_count": 99,
   "metadata": {},
   "outputs": [
    {
     "name": "stdout",
     "output_type": "stream",
     "text": [
      "0.23.2\n"
     ]
    },
    {
     "data": {
      "text/html": [
       "<div>\n",
       "<style scoped>\n",
       "    .dataframe tbody tr th:only-of-type {\n",
       "        vertical-align: middle;\n",
       "    }\n",
       "\n",
       "    .dataframe tbody tr th {\n",
       "        vertical-align: top;\n",
       "    }\n",
       "\n",
       "    .dataframe thead th {\n",
       "        text-align: right;\n",
       "    }\n",
       "</style>\n",
       "<table border=\"1\" class=\"dataframe\">\n",
       "  <thead>\n",
       "    <tr style=\"text-align: right;\">\n",
       "      <th></th>\n",
       "      <th>Name</th>\n",
       "      <th>Location</th>\n",
       "      <th>Year</th>\n",
       "      <th>Kilometers_Driven</th>\n",
       "      <th>Fuel_Type</th>\n",
       "      <th>Transmission</th>\n",
       "      <th>Owner_Type</th>\n",
       "      <th>Mileage</th>\n",
       "      <th>Engine</th>\n",
       "      <th>Power</th>\n",
       "      <th>Seats</th>\n",
       "      <th>Price</th>\n",
       "      <th>Car_age</th>\n",
       "    </tr>\n",
       "  </thead>\n",
       "  <tbody>\n",
       "    <tr>\n",
       "      <th>0</th>\n",
       "      <td>12</td>\n",
       "      <td>9</td>\n",
       "      <td>2010</td>\n",
       "      <td>72000</td>\n",
       "      <td>0</td>\n",
       "      <td>1</td>\n",
       "      <td>0</td>\n",
       "      <td>26.60</td>\n",
       "      <td>998.0</td>\n",
       "      <td>58.16</td>\n",
       "      <td>5.0</td>\n",
       "      <td>1.011601</td>\n",
       "      <td>10</td>\n",
       "    </tr>\n",
       "    <tr>\n",
       "      <th>1</th>\n",
       "      <td>7</td>\n",
       "      <td>10</td>\n",
       "      <td>2015</td>\n",
       "      <td>41000</td>\n",
       "      <td>1</td>\n",
       "      <td>1</td>\n",
       "      <td>0</td>\n",
       "      <td>19.67</td>\n",
       "      <td>1582.0</td>\n",
       "      <td>126.20</td>\n",
       "      <td>5.0</td>\n",
       "      <td>2.602690</td>\n",
       "      <td>5</td>\n",
       "    </tr>\n",
       "    <tr>\n",
       "      <th>2</th>\n",
       "      <td>6</td>\n",
       "      <td>2</td>\n",
       "      <td>2011</td>\n",
       "      <td>46000</td>\n",
       "      <td>4</td>\n",
       "      <td>1</td>\n",
       "      <td>0</td>\n",
       "      <td>18.20</td>\n",
       "      <td>1199.0</td>\n",
       "      <td>88.70</td>\n",
       "      <td>5.0</td>\n",
       "      <td>1.704748</td>\n",
       "      <td>9</td>\n",
       "    </tr>\n",
       "    <tr>\n",
       "      <th>3</th>\n",
       "      <td>12</td>\n",
       "      <td>2</td>\n",
       "      <td>2012</td>\n",
       "      <td>87000</td>\n",
       "      <td>1</td>\n",
       "      <td>1</td>\n",
       "      <td>0</td>\n",
       "      <td>20.77</td>\n",
       "      <td>1248.0</td>\n",
       "      <td>88.76</td>\n",
       "      <td>7.0</td>\n",
       "      <td>1.945910</td>\n",
       "      <td>8</td>\n",
       "    </tr>\n",
       "    <tr>\n",
       "      <th>4</th>\n",
       "      <td>0</td>\n",
       "      <td>3</td>\n",
       "      <td>2013</td>\n",
       "      <td>40670</td>\n",
       "      <td>1</td>\n",
       "      <td>0</td>\n",
       "      <td>2</td>\n",
       "      <td>15.20</td>\n",
       "      <td>1968.0</td>\n",
       "      <td>140.80</td>\n",
       "      <td>5.0</td>\n",
       "      <td>2.930660</td>\n",
       "      <td>7</td>\n",
       "    </tr>\n",
       "    <tr>\n",
       "      <th>...</th>\n",
       "      <td>...</td>\n",
       "      <td>...</td>\n",
       "      <td>...</td>\n",
       "      <td>...</td>\n",
       "      <td>...</td>\n",
       "      <td>...</td>\n",
       "      <td>...</td>\n",
       "      <td>...</td>\n",
       "      <td>...</td>\n",
       "      <td>...</td>\n",
       "      <td>...</td>\n",
       "      <td>...</td>\n",
       "      <td>...</td>\n",
       "    </tr>\n",
       "    <tr>\n",
       "      <th>6014</th>\n",
       "      <td>12</td>\n",
       "      <td>4</td>\n",
       "      <td>2014</td>\n",
       "      <td>27365</td>\n",
       "      <td>1</td>\n",
       "      <td>1</td>\n",
       "      <td>0</td>\n",
       "      <td>28.40</td>\n",
       "      <td>1248.0</td>\n",
       "      <td>74.00</td>\n",
       "      <td>5.0</td>\n",
       "      <td>1.749200</td>\n",
       "      <td>6</td>\n",
       "    </tr>\n",
       "    <tr>\n",
       "      <th>6015</th>\n",
       "      <td>7</td>\n",
       "      <td>6</td>\n",
       "      <td>2015</td>\n",
       "      <td>100000</td>\n",
       "      <td>1</td>\n",
       "      <td>1</td>\n",
       "      <td>0</td>\n",
       "      <td>24.40</td>\n",
       "      <td>1120.0</td>\n",
       "      <td>71.00</td>\n",
       "      <td>5.0</td>\n",
       "      <td>1.609438</td>\n",
       "      <td>5</td>\n",
       "    </tr>\n",
       "    <tr>\n",
       "      <th>6016</th>\n",
       "      <td>11</td>\n",
       "      <td>6</td>\n",
       "      <td>2012</td>\n",
       "      <td>55000</td>\n",
       "      <td>1</td>\n",
       "      <td>1</td>\n",
       "      <td>2</td>\n",
       "      <td>14.00</td>\n",
       "      <td>2498.0</td>\n",
       "      <td>112.00</td>\n",
       "      <td>8.0</td>\n",
       "      <td>1.360977</td>\n",
       "      <td>8</td>\n",
       "    </tr>\n",
       "    <tr>\n",
       "      <th>6017</th>\n",
       "      <td>12</td>\n",
       "      <td>8</td>\n",
       "      <td>2013</td>\n",
       "      <td>46000</td>\n",
       "      <td>4</td>\n",
       "      <td>1</td>\n",
       "      <td>0</td>\n",
       "      <td>18.90</td>\n",
       "      <td>998.0</td>\n",
       "      <td>67.10</td>\n",
       "      <td>5.0</td>\n",
       "      <td>1.294727</td>\n",
       "      <td>7</td>\n",
       "    </tr>\n",
       "    <tr>\n",
       "      <th>6018</th>\n",
       "      <td>2</td>\n",
       "      <td>5</td>\n",
       "      <td>2011</td>\n",
       "      <td>47000</td>\n",
       "      <td>1</td>\n",
       "      <td>1</td>\n",
       "      <td>0</td>\n",
       "      <td>25.44</td>\n",
       "      <td>936.0</td>\n",
       "      <td>57.60</td>\n",
       "      <td>5.0</td>\n",
       "      <td>1.252763</td>\n",
       "      <td>9</td>\n",
       "    </tr>\n",
       "  </tbody>\n",
       "</table>\n",
       "<p>5985 rows × 13 columns</p>\n",
       "</div>"
      ],
      "text/plain": [
       "      Name  Location  Year  Kilometers_Driven  Fuel_Type  Transmission  \\\n",
       "0       12         9  2010              72000          0             1   \n",
       "1        7        10  2015              41000          1             1   \n",
       "2        6         2  2011              46000          4             1   \n",
       "3       12         2  2012              87000          1             1   \n",
       "4        0         3  2013              40670          1             0   \n",
       "...    ...       ...   ...                ...        ...           ...   \n",
       "6014    12         4  2014              27365          1             1   \n",
       "6015     7         6  2015             100000          1             1   \n",
       "6016    11         6  2012              55000          1             1   \n",
       "6017    12         8  2013              46000          4             1   \n",
       "6018     2         5  2011              47000          1             1   \n",
       "\n",
       "      Owner_Type  Mileage  Engine   Power  Seats     Price  Car_age  \n",
       "0              0    26.60   998.0   58.16    5.0  1.011601       10  \n",
       "1              0    19.67  1582.0  126.20    5.0  2.602690        5  \n",
       "2              0    18.20  1199.0   88.70    5.0  1.704748        9  \n",
       "3              0    20.77  1248.0   88.76    7.0  1.945910        8  \n",
       "4              2    15.20  1968.0  140.80    5.0  2.930660        7  \n",
       "...          ...      ...     ...     ...    ...       ...      ...  \n",
       "6014           0    28.40  1248.0   74.00    5.0  1.749200        6  \n",
       "6015           0    24.40  1120.0   71.00    5.0  1.609438        5  \n",
       "6016           2    14.00  2498.0  112.00    8.0  1.360977        8  \n",
       "6017           0    18.90   998.0   67.10    5.0  1.294727        7  \n",
       "6018           0    25.44   936.0   57.60    5.0  1.252763        9  \n",
       "\n",
       "[5985 rows x 13 columns]"
      ]
     },
     "execution_count": 99,
     "metadata": {},
     "output_type": "execute_result"
    }
   ],
   "source": [
    "train.Engine = pd.to_numeric(train.Engine, errors='coerce')\n",
    "train.Power = pd.to_numeric(train.Power, errors='coerce')\n",
    "test.Engine = pd.to_numeric(test.Engine, errors='coerce')\n",
    "test.Power = pd.to_numeric(test.Power, errors='coerce')\n",
    "import sklearn\n",
    "print (sklearn.__version__)\n",
    "# creating bool series True for NaN values  \n",
    "bool_series = pd.isnull(train[\"Price\"])  \n",
    "    \n",
    "# filtering data  \n",
    "# displaying data only with Gender = NaN  \n",
    "train.fillna(0) \n",
    "\n"
   ]
  },
  {
   "cell_type": "code",
   "execution_count": 100,
   "metadata": {},
   "outputs": [],
   "source": [
    "from sklearn.impute import SimpleImputer\n",
    "imputer = SimpleImputer(missing_values = np.nan, strategy ='mean')\n",
    "train[[\"Engine\", \"Power\", \"Seats\"]] = imputer.fit_transform(train[[\"Engine\", \"Power\", \"Seats\"]])\n",
    "test[[\"Engine\", \"Power\", \"Seats\"]] = imputer.fit_transform(test[[\"Engine\", \"Power\", \"Seats\"]])"
   ]
  },
  {
   "cell_type": "code",
   "execution_count": 101,
   "metadata": {},
   "outputs": [
    {
     "data": {
      "text/plain": [
       "Name                 0\n",
       "Location             0\n",
       "Year                 0\n",
       "Kilometers_Driven    0\n",
       "Fuel_Type            0\n",
       "Transmission         0\n",
       "Owner_Type           0\n",
       "Mileage              0\n",
       "Engine               0\n",
       "Power                0\n",
       "Seats                0\n",
       "Price                0\n",
       "Car_age              0\n",
       "dtype: int64"
      ]
     },
     "execution_count": 101,
     "metadata": {},
     "output_type": "execute_result"
    }
   ],
   "source": [
    "train.isnull().sum()"
   ]
  },
  {
   "cell_type": "code",
   "execution_count": 102,
   "metadata": {},
   "outputs": [
    {
     "name": "stdout",
     "output_type": "stream",
     "text": [
      "Name                 0\n",
      "Location             0\n",
      "Year                 0\n",
      "Kilometers_Driven    0\n",
      "Fuel_Type            0\n",
      "Transmission         0\n",
      "Owner_Type           0\n",
      "Mileage              0\n",
      "Engine               0\n",
      "Power                0\n",
      "Seats                0\n",
      "Price                0\n",
      "Car_age              0\n",
      "dtype: int64\n"
     ]
    }
   ],
   "source": [
    "y = train.Price\n",
    "X = train.drop(['Price'],axis=1)\n",
    "print(train.isnull().sum())"
   ]
  },
  {
   "cell_type": "code",
   "execution_count": 110,
   "metadata": {},
   "outputs": [
    {
     "name": "stdout",
     "output_type": "stream",
     "text": [
      "Name                 0\n",
      "Location             0\n",
      "Year                 0\n",
      "Kilometers_Driven    0\n",
      "Fuel_Type            0\n",
      "Transmission         0\n",
      "Owner_Type           0\n",
      "Mileage              0\n",
      "Engine               0\n",
      "Power                0\n",
      "Seats                0\n",
      "Price                0\n",
      "Car_age              0\n",
      "dtype: int64\n",
      "Name                 0\n",
      "Location             0\n",
      "Year                 0\n",
      "Kilometers_Driven    0\n",
      "Fuel_Type            0\n",
      "Transmission         0\n",
      "Owner_Type           0\n",
      "Mileage              0\n",
      "Engine               0\n",
      "Power                0\n",
      "Seats                0\n",
      "Car_age              0\n",
      "dtype: int64\n"
     ]
    }
   ],
   "source": [
    "train.dropna(inplace=True)\n",
    "print(train.isnull().sum())\n",
    "\n",
    "from sklearn.model_selection import train_test_split\n",
    "X_train, X_valid, y_train, y_valid = train_test_split(X,y,test_size=0.2)\n",
    "print(X_valid.isnull().sum())\n"
   ]
  },
  {
   "cell_type": "code",
   "execution_count": 117,
   "metadata": {},
   "outputs": [
    {
     "name": "stdout",
     "output_type": "stream",
     "text": [
      "      Name  Location  Year  Kilometers_Driven  Fuel_Type  Transmission  \\\n",
      "5804    18         7  2013              69140          1             1   \n",
      "3270    12         7  2016              40810          1             1   \n",
      "5532     7         3  2011              63991          4             1   \n",
      "855     19         6  2009             100000          1             1   \n",
      "3104    12         8  2013              41300          1             1   \n",
      "...    ...       ...   ...                ...        ...           ...   \n",
      "1028    13         4  2014              85000          1             0   \n",
      "3442     7         4  2016              13460          4             1   \n",
      "1385     6        10  2004             115000          4             1   \n",
      "2707    12         7  2018              51921          1             1   \n",
      "6018     2         5  2011              47000          1             1   \n",
      "\n",
      "      Owner_Type  Mileage       Engine       Power    Seats  Car_age  \n",
      "5804           0    20.46  1461.000000   83.800000  5.00000        7  \n",
      "3270           0    28.09  1248.000000   88.500000  5.00000        4  \n",
      "5532           0    18.50  1197.000000   80.000000  5.00000        9  \n",
      "855            0    17.00  1896.000000  105.000000  5.00000       11  \n",
      "3104           0    17.80  1248.000000  113.148932  5.00000        7  \n",
      "...          ...      ...          ...         ...      ...      ...  \n",
      "1028           0    11.30  2987.000000  254.800000  7.00000        6  \n",
      "3442           0    18.60  1197.000000   81.860000  5.00000        4  \n",
      "1385           2     0.00  1620.262645  113.148932  5.28074       16  \n",
      "2707           0    24.30  1248.000000   88.500000  5.00000        2  \n",
      "6018           0    25.44   936.000000   57.600000  5.00000        9  \n",
      "\n",
      "[4788 rows x 12 columns]\n",
      "5804    1.809927\n",
      "3270    2.186051\n",
      "5532    1.528228\n",
      "855     1.413423\n",
      "3104    1.477049\n",
      "          ...   \n",
      "1028    3.682610\n",
      "3442    2.008214\n",
      "1385    0.916291\n",
      "2707    2.263844\n",
      "6018    1.252763\n",
      "Name: Price, Length: 4788, dtype: float64\n",
      "      Name  Location  Year  Kilometers_Driven  Fuel_Type  Transmission  \\\n",
      "4583     7         8  2015              24350          4             1   \n",
      "3164     5         5  2013             100000          4             1   \n",
      "1286    22         5  2013              74000          1             1   \n",
      "3763    11        10  2009              70000          1             1   \n",
      "4356     5         6  2010              82000          1             1   \n",
      "...    ...       ...   ...                ...        ...           ...   \n",
      "777      7         1  2012              67000          1             1   \n",
      "5465    12         6  2017              35362          4             1   \n",
      "5167    12         1  2014              68000          4             1   \n",
      "4609     7         3  2017              60083          1             1   \n",
      "1694     7         2  2013              21000          4             0   \n",
      "\n",
      "      Owner_Type  Mileage  Engine   Power  Seats  Car_age  \n",
      "4583           2    19.81  1086.0   68.05    5.0        5  \n",
      "3164           2    15.80  1499.0  110.00    5.0        7  \n",
      "1286           0    22.07  1199.0   73.90    5.0        7  \n",
      "3763           0    14.00  2498.0  112.00    7.0       11  \n",
      "4356           2    13.80  1399.0   68.00    5.0       10  \n",
      "...          ...      ...     ...     ...    ...      ...  \n",
      "777            0    22.32  1582.0  126.32    5.0        8  \n",
      "5465           0    22.50   998.0   67.04    5.0        3  \n",
      "5167           2    16.02  1373.0   93.70    7.0        6  \n",
      "4609           0    19.67  1582.0  126.20    5.0        3  \n",
      "1694           0    16.95  1197.0   78.90    5.0        7  \n",
      "\n",
      "[1197 rows x 12 columns]\n"
     ]
    }
   ],
   "source": [
    "from sklearn.linear_model import LinearRegression\n",
    "\n",
    "\n",
    "model1 = LinearRegression() \n",
    "print(X_train)\n",
    "print(y_train)\n",
    "model1.fit(X_train, y_train) \n",
    "print(X_valid)\n",
    "\n"
   ]
  },
  {
   "cell_type": "code",
   "execution_count": 113,
   "metadata": {},
   "outputs": [
    {
     "name": "stdout",
     "output_type": "stream",
     "text": [
      "[1.52142252 1.69046127 1.62650076 ... 1.74210853 2.52595377 1.91515884]\n"
     ]
    }
   ],
   "source": [
    "y_pred = model1.predict(X_valid) \n",
    "print(y_pred)\n"
   ]
  },
  {
   "cell_type": "code",
   "execution_count": 114,
   "metadata": {},
   "outputs": [],
   "source": [
    "import pickle"
   ]
  },
  {
   "cell_type": "code",
   "execution_count": 115,
   "metadata": {},
   "outputs": [],
   "source": [
    "pickle.dump(model1, open('model.pkl','wb'))"
   ]
  },
  {
   "cell_type": "code",
   "execution_count": 116,
   "metadata": {},
   "outputs": [],
   "source": [
    "model = pickle.load(open('model.pkl','rb'))"
   ]
  },
  {
   "cell_type": "code",
   "execution_count": 122,
   "metadata": {},
   "outputs": [
    {
     "name": "stdout",
     "output_type": "stream",
     "text": [
      "[155929.29618744]\n"
     ]
    }
   ],
   "source": [
    "print(model.predict([[21,2,2012,48000,1,1,0,23.59,1364.0,64.05,5.0,8 ]])*100000)"
   ]
  },
  {
   "cell_type": "code",
   "execution_count": null,
   "metadata": {},
   "outputs": [],
   "source": []
  }
 ],
 "metadata": {
  "kernelspec": {
   "display_name": "Python 3",
   "language": "python",
   "name": "python3"
  },
  "language_info": {
   "codemirror_mode": {
    "name": "ipython",
    "version": 3
   },
   "file_extension": ".py",
   "mimetype": "text/x-python",
   "name": "python",
   "nbconvert_exporter": "python",
   "pygments_lexer": "ipython3",
   "version": "3.8.3"
  }
 },
 "nbformat": 4,
 "nbformat_minor": 4
}
